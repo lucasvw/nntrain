{
 "cells": [
  {
   "cell_type": "markdown",
   "id": "b27381bf-43c8-42db-abd7-f31c9e858e62",
   "metadata": {},
   "source": [
    "# Activations\n",
    "\n",
    "> Module containing helper functions and classes around activations"
   ]
  },
  {
   "cell_type": "code",
   "execution_count": null,
   "id": "2237ccae-b232-47c0-8a0c-383807827aea",
   "metadata": {},
   "outputs": [],
   "source": [
    "#|default_exp activations"
   ]
  },
  {
   "cell_type": "code",
   "execution_count": null,
   "id": "3532a28f-a116-44be-93bf-be02c7f12b82",
   "metadata": {},
   "outputs": [],
   "source": [
    " #| export\n",
    "import torchvision.transforms.functional as TF\n",
    "import torch\n",
    "import torch.nn as nn\n",
    "import torch.nn.functional as F\n",
    "from operator import attrgetter\n",
    "from functools import partial\n",
    "import fastcore.all as fc\n",
    "import math\n",
    "import torcheval.metrics as tem\n",
    "import matplotlib.pyplot as plt\n",
    "import random\n",
    "import numpy as np"
   ]
  },
  {
   "cell_type": "code",
   "execution_count": null,
   "id": "3ad9508b-d1ba-497c-8fda-2b8810ba41ee",
   "metadata": {},
   "outputs": [],
   "source": [
    " #| export\n",
    "def set_seed(seed, deterministic=False):\n",
    "    torch.use_deterministic_algorithms(deterministic)\n",
    "    torch.manual_seed(seed)\n",
    "    random.seed(seed)\n",
    "    np.random.seed(seed)"
   ]
  },
  {
   "cell_type": "code",
   "execution_count": null,
   "id": "bbf3e0e6-c12a-4103-a8c1-17c1df5c2f23",
   "metadata": {},
   "outputs": [],
   "source": [
    " #| export\n",
    "class Hook():\n",
    "    def __init__(self, nr, layer, func):\n",
    "        wrapped_func = partial(func, self) # pass the Hook object into the function\n",
    "        self.hook = layer.register_forward_hook(wrapped_func)\n",
    "        self.layer_name = f'{nr}_{layer.__class__.__name__}'\n",
    "        \n",
    "    def remove(self):\n",
    "        self.hook.remove()"
   ]
  },
  {
   "cell_type": "code",
   "execution_count": null,
   "id": "475eb512-dc2d-4607-aaf5-b61ebf293115",
   "metadata": {},
   "outputs": [],
   "source": [
    " #| export\n",
    "class ActivationStatsS(Subscriber):\n",
    "    \n",
    "    def __init__(self, modules):\n",
    "        self.modules = modules\n",
    "    \n",
    "    def before_fit(self, learn):\n",
    "        self.hooks = [Hook(i, module, partial(self.record_stats, learn)) for i, module in enumerate(self.modules)]\n",
    "        \n",
    "    def record_stats(self, learn, hook, layer, inp, outp):\n",
    "        if learn.model.training:\n",
    "            if not hasattr(hook, 'stats'): hook.stats = ([], [], [], [])\n",
    "            acts = outp.detach().cpu()\n",
    "            hook.stats[0].append(acts.mean())              # get the means over all activations\n",
    "            hook.stats[1].append(acts.std())               # get the stds over all activations\n",
    "            hook.stats[2].append(acts.histc(20,-10,10))    # get the histogram counts with 20 bins (-10,10)\n",
    "            \n",
    "            # computation of the not_firing_rate_per_activation\n",
    "            N = acts.shape[0]                 \n",
    "            flat = acts.view(N, -1)                        # flatten the activations: matrix of [samples, activations]\n",
    "            nf_rate_p_act = (flat == 0.0).sum(dim=0) / N   # compute not firing rate per activations (so across the samples)\n",
    "            hook.stats[3].append(nf_rate_p_act)   \n",
    "\n",
    "    def after_fit(self, learn):\n",
    "        for h in self.hooks: h.remove()"
   ]
  },
  {
   "cell_type": "code",
   "execution_count": null,
   "id": "8ab7d22c-cc2b-4263-88bf-9f8c77e6d9ca",
   "metadata": {},
   "outputs": [],
   "source": [
    "#|export\n",
    "@fc.patch()\n",
    "def plot(self:ActivationStatsS, figsize=(15,4), average_firing_rate=False):\n",
    "    plots = 3 if average_firing_rate else 2\n",
    "    fig,axs = plt.subplots(1,plots, figsize=figsize)\n",
    "    legend = []\n",
    "    for h in self.hooks:\n",
    "        axs[0].plot(h.stats[0])\n",
    "        axs[0].set_title('mean')\n",
    "        axs[1].plot(h.stats[1])\n",
    "        axs[1].set_title('std')\n",
    "        if average_firing_rate:\n",
    "            axs[2].plot(1-torch.stack(h.stats[3]).T.mean(dim=0))\n",
    "            axs[2].set_title('average firing rate')\n",
    "            axs[2].set_ylim(0,1)\n",
    "        legend.append(h.layer_name)\n",
    "    plt.legend(legend);\n",
    "\n",
    "@fc.patch()\n",
    "def plot_hist(self:ActivationStatsS, figsize=None, log=True):\n",
    "    if figsize is None: figsize = (15, len(self.hooks))\n",
    "    fig,axs = plt.subplots(math.ceil(len(self.hooks)/2), 2, figsize=figsize)\n",
    "    axs = axs.flat\n",
    "    for i, hook in enumerate(self.hooks):\n",
    "        d = torch.stack(hook.stats[2]).T\n",
    "        if log: d = d.log1p()\n",
    "        axs[i].imshow(d, cmap='Blues', origin='lower', aspect='auto')\n",
    "        axs[i].set_title(hook.layer_name)\n",
    "        axs[i].set_yticks(np.arange(0, 20, 2), np.arange(-10, 10, 2))\n",
    "\n",
    "@fc.patch()\n",
    "def plot_dead(self:ActivationStatsS, binary=False, figsize=None):\n",
    "    if figsize is None: figsize = (15, len(self.hooks))\n",
    "    fig,axs = plt.subplots(math.ceil(len(self.hooks)/2), 2, figsize=figsize)\n",
    "    axs = axs.flat\n",
    "    for i, hook in enumerate(self.hooks):\n",
    "        d = torch.stack(hook.stats[3]).T\n",
    "        if binary: d = d == 1.0\n",
    "        axs[i].imshow(d, cmap='Greys', origin='lower', aspect='auto')\n",
    "        axs[i].set_title(hook.layer_name)"
   ]
  },
  {
   "cell_type": "code",
   "execution_count": null,
   "id": "e79f12ad-3cd9-4ee1-ba6b-adc9d50d5d81",
   "metadata": {},
   "outputs": [],
   "source": [
    " #| export\n",
    "def init_weights(m):\n",
    "    if isinstance(m, nn.Conv2d): torch.nn.init.kaiming_normal_(m.weight)"
   ]
  },
  {
   "cell_type": "code",
   "execution_count": null,
   "id": "0a0b95df-0fe0-497e-9cbe-1a36bc9a6fb5",
   "metadata": {},
   "outputs": [],
   "source": [
    " #| export\n",
    "class NormalizationS(Subscriber):\n",
    "    def __init__(self, mean, std):\n",
    "        self.mean = mean\n",
    "        self.std = std\n",
    "        \n",
    "    def before_batch(self, learn):\n",
    "        learn.batch = [(learn.batch[0] - self.mean) / self.std, learn.batch[1]]"
   ]
  },
  {
   "cell_type": "code",
   "execution_count": null,
   "id": "57b1e4d8-84de-4b0c-b77a-ea2d978a1a6e",
   "metadata": {},
   "outputs": [],
   "source": [
    " #| export\n",
    "def conv_block(in_c, out_c, kernel_size=3, act=True, norm=True):\n",
    "    padding = kernel_size // 2\n",
    "    stride = 2\n",
    "    layers = [torch.nn.Conv2d(in_c, out_c, kernel_size, stride, padding, bias=not norm)]\n",
    "    if norm: layers.append(torch.nn.BatchNorm2d(out_c))\n",
    "    if act: layers.append(torch.nn.ReLU())\n",
    "    return nn.Sequential(*layers) if len(layers)>1 else layers[0]"
   ]
  },
  {
   "cell_type": "code",
   "execution_count": null,
   "id": "aeb7420b-1274-408a-9e22-671b0d581ef5",
   "metadata": {},
   "outputs": [],
   "source": [
    " #| export\n",
    "def cnn_layers(act=True):\n",
    "    return nn.Sequential(                  \n",
    "        conv_block(1 , 8, kernel_size=5),\n",
    "        conv_block(8 ,16),\n",
    "        conv_block(16,32),\n",
    "        conv_block(32,64),\n",
    "        conv_block(64,10, norm=False, act=False),\n",
    "        nn.Flatten())"
   ]
  }
 ],
 "metadata": {
  "kernelspec": {
   "display_name": "python3",
   "language": "python",
   "name": "python3"
  }
 },
 "nbformat": 4,
 "nbformat_minor": 5
}
