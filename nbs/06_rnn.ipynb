{
 "cells": [
  {
   "cell_type": "markdown",
   "id": "e206561b-34ee-4ed9-af57-8827ca9de509",
   "metadata": {},
   "source": [
    "# RNN\n",
    "\n",
    "> Module containing helper functions and classes around rnns"
   ]
  },
  {
   "cell_type": "code",
   "execution_count": null,
   "id": "4a3802e6-d1a4-4140-a0ad-6bb7020cd08b",
   "metadata": {},
   "outputs": [],
   "source": [
    "#|default_exp rnn"
   ]
  },
  {
   "cell_type": "code",
   "execution_count": null,
   "id": "8a40a2a4-b957-4595-b19d-ef6915868232",
   "metadata": {},
   "outputs": [],
   "source": [
    "#| export\n",
    "import random\n",
    "from functools import reduce, partial\n",
    "from pathlib import Path\n",
    "from urllib.request import urlretrieve\n",
    "import numpy as np\n",
    "import torch\n",
    "import torch.nn as nn\n",
    "import torch.nn.functional as F\n",
    "import matplotlib.pyplot as plt\n",
    "import torcheval.metrics as tem\n",
    "import fastcore.all as fc\n",
    "\n",
    "from nntrain.dataloaders import DataLoaders\n",
    "from nntrain.learner import *\n",
    "from nntrain.activations import *\n",
    "from nntrain.acceleration import *"
   ]
  },
  {
   "cell_type": "code",
   "execution_count": null,
   "id": "363506b1-3291-4581-9382-c95cf4b60ac1",
   "metadata": {},
   "outputs": [],
   "source": [
    "#| export\n",
    "class SequentialDataset():\n",
    "    def __init__(self, lines, c2i, sequence_length):\n",
    "        text = \".\" + \".\".join(lines) + \".\"\n",
    "        self.x = []\n",
    "        self.y = []\n",
    "        for i in range(0, len(text) - sequence_length - 1, sequence_length):\n",
    "            self.x.append([c2i[xi] for xi in text[i: i+sequence_length]])\n",
    "            self.y.append([c2i[yi] for yi in text[i+1: i+sequence_length+1]])\n",
    "        self.x = torch.tensor(self.x)\n",
    "        self.y = torch.tensor(self.y)\n",
    "    \n",
    "    def __getitem__(self, i):\n",
    "        return self.x[i], self.y[i]\n",
    "\n",
    "    def __len__(self):\n",
    "        return len(self.x)"
   ]
  },
  {
   "cell_type": "code",
   "execution_count": null,
   "id": "8309851b-75f8-4129-81a6-32e776ddecb1",
   "metadata": {},
   "outputs": [],
   "source": [
    "#| export\n",
    "class VerticalSampler():\n",
    "    def __init__(self, ds, batch_size):\n",
    "        self.batch_size = batch_size\n",
    "        self.batches = len(ds) // self.batch_size\n",
    "        \n",
    "    def __iter__(self):\n",
    "        for i in range(self.batches):\n",
    "            for j in range(self.batch_size):\n",
    "                yield i + self.batches*j\n",
    "                \n",
    "    def __len__(self):\n",
    "        return self.batches * self.batch_size"
   ]
  },
  {
   "cell_type": "code",
   "execution_count": null,
   "id": "5873dcf9-e16c-4cdd-91c4-cfccdc9e8a82",
   "metadata": {},
   "outputs": [],
   "source": [
    "#| export\n",
    "def multi_output_cross_entropy(logits, targets):\n",
    "    # logits = [bs, context_length, output_classes]\n",
    "    # targets = [bs, context_length]\n",
    "    \n",
    "    targets = targets.view(-1)\n",
    "    \n",
    "    bs, context_length, output_classes = logits.shape\n",
    "    logits = logits.view(-1, output_classes)\n",
    "    \n",
    "    return F.cross_entropy(logits, targets)"
   ]
  },
  {
   "cell_type": "code",
   "execution_count": null,
   "id": "a5fb72e4-cc6d-4e0d-a1a8-c56a4794a305",
   "metadata": {},
   "outputs": [],
   "source": [
    "#| export\n",
    "class HiddenStateResetterS(Subscriber):\n",
    "    def before_epoch(self, learn):\n",
    "        learn.model.reset_hidden_state()"
   ]
  }
 ],
 "metadata": {
  "kernelspec": {
   "display_name": "python3",
   "language": "python",
   "name": "python3"
  }
 },
 "nbformat": 4,
 "nbformat_minor": 5
}
