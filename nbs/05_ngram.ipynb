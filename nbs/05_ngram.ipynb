{
 "cells": [
  {
   "cell_type": "markdown",
   "id": "e206561b-34ee-4ed9-af57-8827ca9de509",
   "metadata": {},
   "source": [
    "# N-gram\n",
    "\n",
    "> Module containing helper functions and classes around ngrams"
   ]
  },
  {
   "cell_type": "code",
   "execution_count": null,
   "id": "4a3802e6-d1a4-4140-a0ad-6bb7020cd08b",
   "metadata": {},
   "outputs": [],
   "source": [
    "#|default_exp ngram"
   ]
  },
  {
   "cell_type": "code",
   "execution_count": null,
   "id": "8a40a2a4-b957-4595-b19d-ef6915868232",
   "metadata": {},
   "outputs": [],
   "source": [
    "#| export\n",
    "from functools import reduce\n",
    "from pathlib import Path\n",
    "from urllib.request import urlretrieve\n",
    "import torch\n",
    "import torch.nn as nn\n",
    "import torch.nn.functional as F\n",
    "import matplotlib.pyplot as plt\n",
    "import torcheval.metrics as tem\n",
    "import fastcore.all as fc\n",
    "\n",
    "from nntrain.dataloaders import DataLoaders\n",
    "from nntrain.learner import *\n",
    "from nntrain.activations import *"
   ]
  },
  {
   "cell_type": "code",
   "execution_count": null,
   "id": "363506b1-3291-4581-9382-c95cf4b60ac1",
   "metadata": {},
   "outputs": [],
   "source": [
    "#| export\n",
    "class NgramDataset():\n",
    "    def __init__(self, lines, c2i, n=2):\n",
    "        self.x = []\n",
    "        self.y = []\n",
    "        for line in lines:           \n",
    "            x = '.'*(n-1)\n",
    "            for y in line + '.':\n",
    "                self.x.append([c2i[xi] for xi in x])\n",
    "                self.y.append(c2i[y])\n",
    "                x = (x + y)[1:]\n",
    "        self.x = torch.tensor(self.x)\n",
    "        self.y = torch.tensor(self.y).squeeze()\n",
    "    \n",
    "    def __getitem__(self, i):\n",
    "        return self.x[i], self.y[i]\n",
    "\n",
    "    def __len__(self):\n",
    "        return len(self.x)"
   ]
  }
 ],
 "metadata": {
  "kernelspec": {
   "display_name": "python3",
   "language": "python",
   "name": "python3"
  }
 },
 "nbformat": 4,
 "nbformat_minor": 5
}
