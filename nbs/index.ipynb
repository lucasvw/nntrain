{
 "cells": [
  {
   "cell_type": "markdown",
   "metadata": {},
   "source": [
    "# nntrain\n",
    "\n",
    "> Neural network training (`nntrain`) is a super small library build on top of PyTorch and helps with training neural networks. It's basically defined in a couple of blog posts starting from [here](https://lucasvw.github.io/posts/08_nntrain_setup/) following [fast.ai part 2](https://course.fast.ai/)"
   ]
  },
  {
   "cell_type": "markdown",
   "metadata": {},
   "source": [
    "## Todo's:"
   ]
  },
  {
   "cell_type": "markdown",
   "metadata": {},
   "source": [
    "- Extend the good documentation of `Dataloaders` to all other modules 🙈"
   ]
  },
  {
   "cell_type": "code",
   "execution_count": null,
   "metadata": {},
   "outputs": [],
   "source": []
  }
 ],
 "metadata": {
  "kernelspec": {
   "display_name": "python3",
   "language": "python",
   "name": "python3"
  }
 },
 "nbformat": 4,
 "nbformat_minor": 4
}
